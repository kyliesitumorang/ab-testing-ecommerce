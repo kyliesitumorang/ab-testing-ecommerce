{
 "cells": [
  {
   "cell_type": "markdown",
   "id": "17485b42",
   "metadata": {},
   "source": [
    "# A/B Testing - eCommerce Conversion Rates\n",
    "\n",
    "This notebook analyzes whether there is a statistically significant difference in conversion rates between users shown the old page (control) and the new page (treatment) on an eCommerce site.\n",
    "\n",
    "## Objective\n",
    "Determine if the new landing page increases user conversions compared to the old one.\n"
   ]
  },
  {
   "cell_type": "code",
   "execution_count": null,
   "id": "fb0ef977",
   "metadata": {},
   "outputs": [],
   "source": [
    "import pandas as pd\n",
    "import matplotlib.pyplot as plt\n",
    "import seaborn as sns\n",
    "from scipy import stats\n",
    "\n",
    "sns.set(style=\"whitegrid\")\n"
   ]
  },
  {
   "cell_type": "code",
   "execution_count": null,
   "id": "e633366a",
   "metadata": {},
   "outputs": [],
   "source": [
    "# Replace with your own file path or URL\n",
    "data = pd.read_csv(\"ecommerce_ab_testing.csv\")\n",
    "data.head()\n"
   ]
  },
  {
   "cell_type": "code",
   "execution_count": null,
   "id": "a896f473",
   "metadata": {},
   "outputs": [],
   "source": [
    "print(\"Dataset Info:\")\n",
    "print(data.info())\n",
    "print(\"\\nMissing values:\")\n",
    "print(data.isnull().sum())\n",
    "\n",
    "# Distribution of control vs treatment\n",
    "sns.countplot(x='group', data=data)\n",
    "plt.title('Distribution of Control vs Treatment Groups')\n",
    "plt.show()\n"
   ]
  },
  {
   "cell_type": "code",
   "execution_count": null,
   "id": "358e8de3",
   "metadata": {},
   "outputs": [],
   "source": [
    "# Conversion rates\n",
    "conversion_summary = data.groupby('group')['converted'].agg(['count', 'sum', 'mean'])\n",
    "conversion_summary.columns = ['Total Users', 'Conversions', 'Conversion Rate']\n",
    "conversion_summary\n"
   ]
  },
  {
   "cell_type": "code",
   "execution_count": null,
   "id": "67018473",
   "metadata": {},
   "outputs": [],
   "source": [
    "# Create control and treatment groups\n",
    "control = data[data['group'] == 'control']['converted']\n",
    "treatment = data[data['group'] == 'treatment']['converted']\n",
    "\n",
    "# Perform independent t-test\n",
    "t_stat, p_val = stats.ttest_ind(control, treatment)\n",
    "print(f\"T-statistic: {t_stat:.4f}\")\n",
    "print(f\"P-value: {p_val:.4f}\")\n",
    "\n",
    "if p_val < 0.05:\n",
    "    print(\"Result: Statistically significant difference in conversion rates.\")\n",
    "else:\n",
    "    print(\"Result: No statistically significant difference in conversion rates.\")\n"
   ]
  },
  {
   "cell_type": "markdown",
   "id": "49bcb279",
   "metadata": {},
   "source": [
    "## Conclusion\n",
    "\n",
    "Based on the results of the t-test, we **do not reject** the null hypothesis. There is **no statistically significant difference** between the conversion rates of the control and treatment groups.\n"
   ]
  }
 ],
 "metadata": {},
 "nbformat": 4,
 "nbformat_minor": 5
}